{
 "cells": [
  {
   "cell_type": "code",
   "execution_count": 1,
   "metadata": {},
   "outputs": [
    {
     "data": {
      "text/html": [
       "<script>requirejs.config({paths: { 'plotly': ['https://cdn.plot.ly/plotly-latest.min']},});if(!window.Plotly) {{require(['plotly'],function(plotly) {window.Plotly=plotly;});}}</script>"
      ],
      "text/vnd.plotly.v1+html": [
       "<script>requirejs.config({paths: { 'plotly': ['https://cdn.plot.ly/plotly-latest.min']},});if(!window.Plotly) {{require(['plotly'],function(plotly) {window.Plotly=plotly;});}}</script>"
      ]
     },
     "metadata": {},
     "output_type": "display_data"
    }
   ],
   "source": [
    "import config\n",
    "import math\n",
    "import pandas as pd\n",
    "import sys\n",
    "import plotly.offline as py\n",
    "import plotly.graph_objs as go\n",
    "import numpy as np\n",
    "import matplotlib as plt\n",
    "import datetime as dt\n",
    "%matplotlib inline\n",
    "%matplotlib notebook\n",
    "py.init_notebook_mode(connected=True)"
   ]
  },
  {
   "cell_type": "code",
   "execution_count": 2,
   "metadata": {
    "collapsed": true
   },
   "outputs": [],
   "source": [
    "path = config.CONFIG['PATH']\n",
    "pair = config.CONFIG['BASE'] + \"/\" + config.CONFIG['QUOTE']\n",
    "sequence_length = 1\n",
    "indicators = pd.read_csv(path + \"/data/indicators.csv\")\n",
    "indicators = indicators[['date','momentum','movingAverage']]\n",
    "candlesticks = pd.read_csv(path + \"/data/candlesticks.csv\")\n",
    "candlesticks = candlesticks[['date','open','high','low','close','volume','weightedAverage',]]\n",
    "merged = indicators.merge(candlesticks, on='date', left_index=False, right_index=False, how=\"inner\")\n",
    "\n",
    "graph_data = merged[['date','movingAverage', 'weightedAverage', 'volume', 'close']]\n",
    "\n",
    "# Condense and add features to the data frame\n",
    "merged['HL_PCT'] = (merged['high'] - merged['close']) / merged['close'] * 100\n",
    "merged['PCT_change'] = (merged['close'] - merged['open']) / merged['open'] * 100\n",
    "\n",
    "merged_csv = merged[['date','close','HL_PCT', 'PCT_change', 'volume', 'movingAverage','weightedAverage', 'momentum']]\n",
    "merged = merged[['close','HL_PCT', 'PCT_change', 'volume', 'momentum']]"
   ]
  },
  {
   "cell_type": "code",
   "execution_count": null,
   "metadata": {
    "collapsed": true
   },
   "outputs": [],
   "source": []
  }
 ],
 "metadata": {
  "kernelspec": {
   "display_name": "Python 3",
   "language": "python",
   "name": "python3"
  },
  "language_info": {
   "codemirror_mode": {
    "name": "ipython",
    "version": 3
   },
   "file_extension": ".py",
   "mimetype": "text/x-python",
   "name": "python",
   "nbconvert_exporter": "python",
   "pygments_lexer": "ipython3",
   "version": "3.6.3"
  }
 },
 "nbformat": 4,
 "nbformat_minor": 2
}
