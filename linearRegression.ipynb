{
 "cells": [
  {
   "cell_type": "code",
   "execution_count": 19,
   "metadata": {},
   "outputs": [
    {
     "data": {
      "text/html": [
       "<script>requirejs.config({paths: { 'plotly': ['https://cdn.plot.ly/plotly-latest.min']},});if(!window.Plotly) {{require(['plotly'],function(plotly) {window.Plotly=plotly;});}}</script>"
      ],
      "text/vnd.plotly.v1+html": [
       "<script>requirejs.config({paths: { 'plotly': ['https://cdn.plot.ly/plotly-latest.min']},});if(!window.Plotly) {{require(['plotly'],function(plotly) {window.Plotly=plotly;});}}</script>"
      ]
     },
     "metadata": {},
     "output_type": "display_data"
    }
   ],
   "source": [
    "from config import CONFIG\n",
    "\n",
    "## Scikit learn for mapping metrics\n",
    "from sklearn.metrics import mean_squared_error\n",
    "from sklearn import preprocessing, svm, model_selection\n",
    "from sklearn.model_selection import cross_validate, train_test_split, cross_val_predict\n",
    "from sklearn.linear_model import LinearRegression\n",
    "import pickle\n",
    "\n",
    "import math\n",
    "import pandas as pd\n",
    "import sys\n",
    "import plotly.offline as py\n",
    "import plotly.graph_objs as go\n",
    "import numpy as np\n",
    "import matplotlib as plt\n",
    "import datetime as dt\n",
    "%matplotlib inline\n",
    "%matplotlib notebook\n",
    "py.init_notebook_mode(connected=True)"
   ]
  },
  {
   "cell_type": "markdown",
   "metadata": {},
   "source": [
    "# Import & Merge Data"
   ]
  },
  {
   "cell_type": "code",
   "execution_count": 25,
   "metadata": {},
   "outputs": [],
   "source": [
    "path = CONFIG['PATH']\n",
    "pair = CONFIG['BASE'] + \"/\" + CONFIG['QUOTE']\n",
    "sequence_length = 1\n",
    "indicators = pd.read_csv(path + \"/data/periods/15m_indicators.csv\")\n",
    "indicators = indicators[['date','momentum','movingAverage']]\n",
    "candlesticks = pd.read_csv(path + \"/data/periods/15m_candlesticks.csv\")\n",
    "candlesticks = candlesticks[['date','open','high','low','close','volume','weightedAverage',]]\n",
    "merged = indicators.merge(candlesticks, on='date', left_index=False, right_index=False, how=\"inner\")\n",
    "\n",
    "graph_data = merged[['date','movingAverage', 'weightedAverage', 'volume', 'close']]\n",
    "\n",
    "# Condense and add features to the data frame\n",
    "merged['HL_PCT'] = (merged['high'] - merged['close']) / merged['close'] * 100\n",
    "merged['PCT_change'] = (merged['close'] - merged['open']) / merged['open'] * 100\n",
    "\n",
    "merged_csv = merged[['date','close','HL_PCT', 'PCT_change', 'volume', 'movingAverage','weightedAverage', 'momentum']]\n",
    "merged = merged[['close','HL_PCT', 'PCT_change', 'volume', 'momentum']]\n",
    "\n",
    "forecast_col = 'close'\n",
    "merged.fillna(-9999, inplace=True)\n",
    "\n",
    "# How many days we are forecasting out\n",
    "forecast_out = int(math.ceil(0.001*len(merged)))\n",
    "\n",
    "merged['label'] = merged[forecast_col].shift(-forecast_out)\n",
    "\n",
    "merged_csv = merged_csv.to_csv(path + '/data/merged_data.csv', index=False)"
   ]
  },
  {
   "cell_type": "code",
   "execution_count": 26,
   "metadata": {},
   "outputs": [
    {
     "name": "stdout",
     "output_type": "stream",
     "text": [
      "      close         HL_PCT  PCT_change     volume  momentum     label\n",
      "0  0.009000  555452.469153  -99.982000  10.654961   -9999.0  0.005291\n",
      "1  0.005501      63.788766  -38.877914  23.277061   -9999.0  0.004970\n",
      "2  0.006900      85.506667   25.431740  10.068957   -9999.0  0.004575\n",
      "3  0.006001      41.654862   -4.753968  11.680869   -9999.0  0.004680\n",
      "4  0.007000       2.714286    1.449275  23.597482   -9999.0  0.004280\n"
     ]
    }
   ],
   "source": [
    "print(merged.head())"
   ]
  },
  {
   "cell_type": "code",
   "execution_count": 27,
   "metadata": {},
   "outputs": [
    {
     "name": "stdout",
     "output_type": "stream",
     "text": [
      "20 day(s)\n"
     ]
    }
   ],
   "source": [
    "# How many days we are forecasting out\n",
    "print(forecast_out, \"day(s)\")"
   ]
  },
  {
   "cell_type": "code",
   "execution_count": 28,
   "metadata": {
    "collapsed": true
   },
   "outputs": [],
   "source": [
    "merged_data = pd.read_csv(path + '/data/merged_data.csv', index_col='date', parse_dates=True)\n",
    "merged_data_values = merged_data.values"
   ]
  },
  {
   "cell_type": "markdown",
   "metadata": {},
   "source": [
    "# Graph Indicators"
   ]
  },
  {
   "cell_type": "code",
   "execution_count": 29,
   "metadata": {},
   "outputs": [
    {
     "name": "stderr",
     "output_type": "stream",
     "text": [
      "IOPub data rate exceeded.\n",
      "The notebook server will temporarily stop sending output\n",
      "to the client in order to avoid crashing it.\n",
      "To change this limit, set the config variable\n",
      "`--NotebookApp.iopub_data_rate_limit`.\n"
     ]
    }
   ],
   "source": [
    "layout = go.Layout(\n",
    "    title=pair + ' Indicators',\n",
    "    xaxis=dict(\n",
    "        title='Time (epoch)',\n",
    "        titlefont=dict(\n",
    "            family='Courier New, monospace',\n",
    "            size=18,\n",
    "            color='#7f7f7f'\n",
    "        )\n",
    "    ),\n",
    "    yaxis=dict(\n",
    "        title='Price',\n",
    "        titlefont=dict(\n",
    "            family='Courier New, monospace',\n",
    "            size=18,\n",
    "            color='#7f7f7f'\n",
    "        )\n",
    "    )\n",
    ")\n",
    "\n",
    "price_trace = go.Scatter(x=graph_data['date'], y=graph_data['weightedAverage'], name= 'Price')\n",
    "movAVG_trace = go.Scatter(x=graph_data['date'], y=graph_data['movingAverage'], name= 'Moving Average')\n",
    "\n",
    "plot_data = [price_trace, movAVG_trace]\n",
    "fig = go.Figure(data=plot_data, layout=layout)\n",
    "py.iplot(fig, filename=indicators)"
   ]
  },
  {
   "cell_type": "markdown",
   "metadata": {},
   "source": [
    "# Build Model"
   ]
  },
  {
   "cell_type": "code",
   "execution_count": 30,
   "metadata": {},
   "outputs": [
    {
     "name": "stdout",
     "output_type": "stream",
     "text": [
      "19415 19415\n"
     ]
    }
   ],
   "source": [
    "# Features\n",
    "X = np.array(merged.drop(['label'],1))\n",
    "X = preprocessing.scale(X)\n",
    "X_lately = X[-forecast_out:]\n",
    "X = X[:-forecast_out]\n",
    "merged.dropna(inplace=True)\n",
    "# Labels\n",
    "y = np.array(merged['label'])\n",
    "\n",
    "print(len(X), len(y))"
   ]
  },
  {
   "cell_type": "markdown",
   "metadata": {},
   "source": [
    "# Train & Test"
   ]
  },
  {
   "cell_type": "code",
   "execution_count": 31,
   "metadata": {},
   "outputs": [
    {
     "data": {
      "text/plain": [
       "LinearRegression(copy_X=True, fit_intercept=True, n_jobs=-1, normalize=True)"
      ]
     },
     "execution_count": 31,
     "metadata": {},
     "output_type": "execute_result"
    }
   ],
   "source": [
    "X_train, X_test, y_train, y_test = model_selection.train_test_split(X, y, test_size=0.2)\n",
    "\n",
    "clf = LinearRegression(n_jobs=-1, normalize=True)\n",
    "clf.fit(X_train, y_train)\n",
    "\n",
    "# The mean score and the 95% confidence interval of the accuracy estimate\n",
    "# print(\"Accuracy: %0.2f (+/- %0.2f)\" % (accuracy.mean(), accuracy.std() * 2))\n",
    "# print(accuracy)"
   ]
  },
  {
   "cell_type": "markdown",
   "metadata": {},
   "source": [
    "# Pickle & Scale"
   ]
  },
  {
   "cell_type": "code",
   "execution_count": 43,
   "metadata": {},
   "outputs": [],
   "source": [
    "# with open (path + '/pickles/linear_regression/15m_linearregression.pickle', 'wb') as f:\n",
    "#     pickle.dump(clf, f)\n",
    "\n",
    "pickle_in = open(path + '/pickles/linear_regression/15m_linearregression.pickle', 'rb')\n",
    "clf = pickle.load(pickle_in)"
   ]
  },
  {
   "cell_type": "code",
   "execution_count": 44,
   "metadata": {},
   "outputs": [
    {
     "name": "stdout",
     "output_type": "stream",
     "text": [
      "Accuracy: 0.99 (+/- 0.00)\n",
      "20 day sample size\n"
     ]
    }
   ],
   "source": [
    "accuracy = clf.score(X_test, y_test)\n",
    "forecast_set = clf.predict(X_lately)\n",
    "print(\"Accuracy: %0.2f (+/- %0.2f)\" % (accuracy.mean(), accuracy.std() * 2))\n",
    "print(forecast_out, 'day sample size')"
   ]
  },
  {
   "cell_type": "code",
   "execution_count": 38,
   "metadata": {
    "collapsed": true
   },
   "outputs": [],
   "source": [
    "predicted = forecast_set\n",
    "size = len(predicted)"
   ]
  },
  {
   "cell_type": "markdown",
   "metadata": {},
   "source": [
    "# Graph Prediction - Linear Regression"
   ]
  },
  {
   "cell_type": "code",
   "execution_count": 39,
   "metadata": {},
   "outputs": [
    {
     "name": "stderr",
     "output_type": "stream",
     "text": [
      "IOPub data rate exceeded.\n",
      "The notebook server will temporarily stop sending output\n",
      "to the client in order to avoid crashing it.\n",
      "To change this limit, set the config variable\n",
      "`--NotebookApp.iopub_data_rate_limit`.\n"
     ]
    }
   ],
   "source": [
    "predict_data = graph_data.tail(size)\n",
    "layout = go.Layout(\n",
    "    title=pair+' Predict Moving Average',\n",
    "    xaxis=dict(\n",
    "        title='Time (epoch)',\n",
    "        titlefont=dict(\n",
    "            family='Courier New, monospace',\n",
    "            size=18,\n",
    "            color='#7f7f7f'\n",
    "        )\n",
    "    ),\n",
    "    yaxis=dict(\n",
    "        title='Price',\n",
    "        titlefont=dict(\n",
    "            family='Courier New, monospace',\n",
    "            size=18,\n",
    "            color='#7f7f7f'\n",
    "        )\n",
    "    )\n",
    ")\n",
    "\n",
    "mvAVG_trace = go.Scatter(x=graph_data['date'], y=graph_data['movingAverage'], name= 'Moving Average')\n",
    "wAVG_trace = go.Scatter(x=graph_data['date'], y=graph_data['close'], name= 'Price')\n",
    "prediction_trace = go.Scatter(x=predict_data['date'], y=predicted, name= 'Prediction')\n",
    "\n",
    "\n",
    "plot_data = [prediction_trace, mvAVG_trace, wAVG_trace]\n",
    "fig = go.Figure(data=plot_data, layout=layout)\n",
    "py.iplot(fig, filename=pair+'_prediction')"
   ]
  },
  {
   "cell_type": "code",
   "execution_count": null,
   "metadata": {
    "collapsed": true
   },
   "outputs": [],
   "source": []
  }
 ],
 "metadata": {
  "kernelspec": {
   "display_name": "Python 3",
   "language": "python",
   "name": "python3"
  },
  "language_info": {
   "codemirror_mode": {
    "name": "ipython",
    "version": 3
   },
   "file_extension": ".py",
   "mimetype": "text/x-python",
   "name": "python",
   "nbconvert_exporter": "python",
   "pygments_lexer": "ipython3",
   "version": "3.6.3"
  }
 },
 "nbformat": 4,
 "nbformat_minor": 2
}
