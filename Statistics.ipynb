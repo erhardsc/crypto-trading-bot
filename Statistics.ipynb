{
 "cells": [
  {
   "cell_type": "code",
   "execution_count": 1,
   "metadata": {},
   "outputs": [],
   "source": [
    "from config import CONFIG\n",
    "import datetime as dt\n",
    "import matplotlib.pyplot as plt\n",
    "import matplotlib.dates as mdates\n",
    "%matplotlib inline\n",
    "%matplotlib notebook\n",
    "import math\n",
    "import numpy as np\n",
    "import pandas as pd\n",
    "import sys\n",
    "import time"
   ]
  },
  {
   "cell_type": "code",
   "execution_count": 46,
   "metadata": {},
   "outputs": [
    {
     "name": "stdout",
     "output_type": "stream",
     "text": [
      "             ETH/BTC   LTC/BTC   BTS/BTC  STEEM/BTC\n",
      "2017-10-15  0.057951  0.011236  0.000010   0.000182\n",
      "2017-10-16  0.056342  0.010569  0.000010   0.000188\n",
      "2017-10-17  0.056180  0.010887  0.000010   0.000190\n",
      "2017-10-18  0.053880  0.010460  0.000009   0.000184\n",
      "2017-10-19  0.050510  0.010013  0.000008   0.000167\n",
      "2017-10-20  0.049900  0.009660  0.000009   0.000162\n",
      "2017-10-21  0.049230  0.009419  0.000009   0.000161\n",
      "2017-10-22  0.048190  0.009245  0.000008   0.000160\n",
      "2017-10-23  0.053761  0.010094  0.000010   0.000181\n",
      "2017-10-24  0.051703  0.009800  0.000009   0.000176\n",
      "2017-10-25  0.050102  0.009409  0.000009   0.000163\n",
      "2017-10-26  0.051487  0.009537  0.000009   0.000172\n",
      "2017-10-27  0.051291  0.009459  0.000009   0.000164\n",
      "2017-10-28  0.049330  0.009221  0.000009   0.000160\n",
      "2017-10-29  0.050030  0.009164  0.000009   0.000157\n",
      "2017-10-30  0.046981  0.008576  0.000011   0.000147\n",
      "2017-10-31  0.042702  0.007823  0.000009   0.000132\n",
      "2017-11-01  0.040600  0.007711  0.000008   0.000127\n",
      "2017-11-02  0.042658  0.007842  0.000008   0.000131\n",
      "2017-11-03  0.040575  0.007427  0.000008   0.000123\n",
      "2017-11-04  0.039865  0.007361  0.000008   0.000120\n",
      "2017-11-05  0.042781  0.007815  0.000009   0.000123\n",
      "2017-11-06  0.040979  0.008510  0.000009   0.000122\n",
      "2017-11-07  0.041285  0.008341  0.000009   0.000129\n",
      "2017-11-08  0.044929  0.009000  0.000012   0.000138\n",
      "2017-11-09  0.045514  0.009000  0.000011   0.000133\n",
      "2017-11-10  0.049544  0.009794  0.000013   0.000146\n",
      "2017-11-11  0.052025  0.009980  0.000014   0.000142\n",
      "2017-11-12  0.048201  0.009394  0.000013   0.000143\n",
      "2017-11-13  0.050900  0.009437  0.000013   0.000140\n",
      "2017-11-14  0.045587  0.008707  0.000012   0.000129\n",
      "2017-11-15  0.042000  0.009010  0.000010   0.000118\n"
     ]
    }
   ],
   "source": [
    "path = CONFIG['PATH']\n",
    "start_date='2017-10-15'\n",
    "end_date='2017-11-15'\n",
    "dates=pd.date_range(start_date, end_date)\n",
    "merged_candlesticks=pd.DataFrame(index=dates)\n",
    "\n",
    "for pair in CONFIG['PAIRS']:\n",
    "    candlesticks = pd.read_csv(path + \"/data/\"+ pair.replace('/','-') +\"/candlesticks.csv\", parse_dates=True, usecols=['date','close'], na_values=['nan'])\n",
    "    candlesticks['date'] = pd.Series([dt.datetime.fromtimestamp(int(ts)).strftime('%Y-%m-%d')\n",
    "                                     for ts in candlesticks['date']]).values\n",
    "    candlesticks = candlesticks.set_index('date')\n",
    "    candlesticks = candlesticks.rename(columns={'close':pair})\n",
    "    merged_candlesticks=merged_candlesticks.join(candlesticks)\n",
    "print(merged_candlesticks) "
   ]
  },
  {
   "cell_type": "code",
   "execution_count": null,
   "metadata": {},
   "outputs": [],
   "source": [
    "window = 20\n",
    "no_of_std = 2\n",
    "\n",
    "rm_btc = pd.Series(candlesticks['close']).rolling(window=window).mean()\n",
    "rstd_btc = pd.Series(candlesticks['close']).rolling(window=window).std()\n",
    "candlesticks['Rolling Mean'] = rm_btc\n",
    "candlesticks['Rolling Mean'].fillna(method='bfill', inplace=True)\n",
    "\n",
    "\n",
    "candlesticks['Bollinger High'] = rm_btc + (rstd_btc * no_of_std)\n",
    "candlesticks['Bollinger High'].fillna(method='bfill', inplace=True)\n",
    "\n",
    "candlesticks['Bollinger Low'] = rm_btc - (rstd_btc * no_of_std)\n",
    "candlesticks['Bollinger Low'].fillna(method='bfill', inplace=True)\n",
    "\n",
    "x = candlesticks['date']\n",
    "ax = candlesticks[['close','Rolling Mean', 'Bollinger High', 'Bollinger Low']].plot(x, title=\"BTC/ETC Bollinger Bands\", label=\"BTC/ETC\")\n",
    "\n",
    "ax.set_xlabel(\"Date\")\n",
    "ax.set_ylabel(\"Price\")\n",
    "ax.legend(loc='upper left')"
   ]
  },
  {
   "cell_type": "code",
   "execution_count": null,
   "metadata": {},
   "outputs": [],
   "source": [
    "\n",
    "\n"
   ]
  },
  {
   "cell_type": "code",
   "execution_count": null,
   "metadata": {
    "collapsed": true
   },
   "outputs": [],
   "source": []
  },
  {
   "cell_type": "code",
   "execution_count": null,
   "metadata": {
    "collapsed": true
   },
   "outputs": [],
   "source": []
  }
 ],
 "metadata": {
  "kernelspec": {
   "display_name": "Python 3",
   "language": "python",
   "name": "python3"
  },
  "language_info": {
   "codemirror_mode": {
    "name": "ipython",
    "version": 3
   },
   "file_extension": ".py",
   "mimetype": "text/x-python",
   "name": "python",
   "nbconvert_exporter": "python",
   "pygments_lexer": "ipython3",
   "version": "3.6.3"
  }
 },
 "nbformat": 4,
 "nbformat_minor": 2
}
